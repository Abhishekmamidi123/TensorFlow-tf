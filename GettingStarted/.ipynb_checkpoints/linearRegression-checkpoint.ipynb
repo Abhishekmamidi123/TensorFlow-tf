{
 "cells": [
  {
   "cell_type": "code",
   "execution_count": 1,
   "metadata": {},
   "outputs": [],
   "source": [
    "# Implementing basic LinearRegression model using high-level TensorFlow library \"tf.estimator\"\n"
   ]
  },
  {
   "cell_type": "code",
   "execution_count": 2,
   "metadata": {},
   "outputs": [],
   "source": [
    "import numpy as np\n",
    "import tensorflow as tf"
   ]
  },
  {
   "cell_type": "code",
   "execution_count": 6,
   "metadata": {},
   "outputs": [
    {
     "name": "stdout",
     "output_type": "stream",
     "text": [
      "[_NumericColumn(key='x', shape=(1,), default_value=None, dtype=tf.float32, normalizer_fn=None)]\n"
     ]
    }
   ],
   "source": [
    "feature_columns = [tf.feature_column.numeric_column(\"x\", shape=[1])]\n",
    "print feature_columns"
   ]
  },
  {
   "cell_type": "code",
   "execution_count": 7,
   "metadata": {},
   "outputs": [
    {
     "name": "stdout",
     "output_type": "stream",
     "text": [
      "INFO:tensorflow:Using default config.\n",
      "WARNING:tensorflow:Using temporary folder as model directory: /tmp/tmpLJT8l8\n",
      "INFO:tensorflow:Using config: {'_save_checkpoints_secs': 600, '_session_config': None, '_keep_checkpoint_max': 5, '_tf_random_seed': 1, '_keep_checkpoint_every_n_hours': 10000, '_log_step_count_steps': 100, '_save_checkpoints_steps': None, '_model_dir': '/tmp/tmpLJT8l8', '_save_summary_steps': 100}\n"
     ]
    }
   ],
   "source": [
    "estimator = tf.estimator.LinearRegressor(feature_columns=feature_columns)"
   ]
  },
  {
   "cell_type": "code",
   "execution_count": 8,
   "metadata": {},
   "outputs": [],
   "source": [
    "x_train = np.array([1., 2., 3., 4.])\n",
    "y_train = np.array([0., -1., -2., -3.])\n",
    "x_eval = np.array([2., 5., 8., 1.])\n",
    "y_eval = np.array([-1.01, -4.1, -7, 0.])"
   ]
  },
  {
   "cell_type": "code",
   "execution_count": 9,
   "metadata": {},
   "outputs": [],
   "source": [
    "input_fn = tf.estimator.inputs.numpy_input_fn(\n",
    "    {\"x\": x_train}, y_train, batch_size=4, num_epochs=None, shuffle=True)\n",
    "train_input_fn = tf.estimator.inputs.numpy_input_fn(\n",
    "    {\"x\": x_train}, y_train, batch_size=4, num_epochs=1000, shuffle=False)\n",
    "eval_input_fn = tf.estimator.inputs.numpy_input_fn(\n",
    "    {\"x\": x_eval}, y_eval, batch_size=4, num_epochs=1000, shuffle=False)"
   ]
  },
  {
   "cell_type": "code",
   "execution_count": 11,
   "metadata": {},
   "outputs": [
    {
     "name": "stdout",
     "output_type": "stream",
     "text": [
      "INFO:tensorflow:Create CheckpointSaverHook.\n",
      "INFO:tensorflow:Restoring parameters from /tmp/tmpLJT8l8/model.ckpt-1000\n",
      "INFO:tensorflow:Saving checkpoints for 1001 into /tmp/tmpLJT8l8/model.ckpt.\n",
      "INFO:tensorflow:loss = 1.03263e-08, step = 1001\n",
      "INFO:tensorflow:global_step/sec: 1129.34\n",
      "INFO:tensorflow:loss = 3.29528e-09, step = 1101 (0.090 sec)\n",
      "INFO:tensorflow:global_step/sec: 1105.71\n",
      "INFO:tensorflow:loss = 2.61423e-10, step = 1201 (0.090 sec)\n",
      "INFO:tensorflow:global_step/sec: 1068.99\n",
      "INFO:tensorflow:loss = 6.48583e-11, step = 1301 (0.094 sec)\n",
      "INFO:tensorflow:global_step/sec: 1262.25\n",
      "INFO:tensorflow:loss = 9.86589e-12, step = 1401 (0.078 sec)\n",
      "INFO:tensorflow:global_step/sec: 1046.35\n",
      "INFO:tensorflow:loss = 1.06581e-12, step = 1501 (0.096 sec)\n",
      "INFO:tensorflow:global_step/sec: 1182.26\n",
      "INFO:tensorflow:loss = 7.28306e-13, step = 1601 (0.085 sec)\n",
      "INFO:tensorflow:global_step/sec: 1209.7\n",
      "INFO:tensorflow:loss = 5.11591e-13, step = 1701 (0.082 sec)\n",
      "INFO:tensorflow:global_step/sec: 1263.44\n",
      "INFO:tensorflow:loss = 3.73035e-13, step = 1801 (0.079 sec)\n",
      "INFO:tensorflow:global_step/sec: 1240.69\n",
      "INFO:tensorflow:loss = 5.68434e-13, step = 1901 (0.081 sec)\n",
      "INFO:tensorflow:Saving checkpoints for 2000 into /tmp/tmpLJT8l8/model.ckpt.\n",
      "INFO:tensorflow:Loss for final step: 5.68434e-13.\n"
     ]
    },
    {
     "data": {
      "text/plain": [
       "<tensorflow.python.estimator.canned.linear.LinearRegressor at 0x7fbf3b6d26d0>"
      ]
     },
     "execution_count": 11,
     "metadata": {},
     "output_type": "execute_result"
    }
   ],
   "source": [
    "estimator.train(input_fn=input_fn, steps=1000)"
   ]
  },
  {
   "cell_type": "code",
   "execution_count": 12,
   "metadata": {},
   "outputs": [
    {
     "name": "stdout",
     "output_type": "stream",
     "text": [
      "INFO:tensorflow:Starting evaluation at 2017-11-11-18:59:28\n",
      "INFO:tensorflow:Restoring parameters from /tmp/tmpLJT8l8/model.ckpt-2000\n",
      "INFO:tensorflow:Finished evaluation at 2017-11-11-18:59:29\n",
      "INFO:tensorflow:Saving dict for global step 2000: average_loss = 1.42109e-13, global_step = 2000, loss = 5.68434e-13\n",
      "INFO:tensorflow:Starting evaluation at 2017-11-11-18:59:29\n",
      "INFO:tensorflow:Restoring parameters from /tmp/tmpLJT8l8/model.ckpt-2000\n",
      "INFO:tensorflow:Finished evaluation at 2017-11-11-18:59:30\n",
      "INFO:tensorflow:Saving dict for global step 2000: average_loss = 0.00252502, global_step = 2000, loss = 0.0101001\n",
      "{'average_loss': 1.4210855e-13, 'global_step': 2000, 'loss': 5.6843419e-13}\n",
      "{'average_loss': 0.0025250204, 'global_step': 2000, 'loss': 0.010100082}\n"
     ]
    }
   ],
   "source": [
    "train_metrics = estimator.evaluate(input_fn=train_input_fn)\n",
    "eval_metrics = estimator.evaluate(input_fn=eval_input_fn)\n",
    "\n",
    "print train_metrics\n",
    "print eval_metrics"
   ]
  },
  {
   "cell_type": "code",
   "execution_count": null,
   "metadata": {},
   "outputs": [],
   "source": []
  },
  {
   "cell_type": "code",
   "execution_count": null,
   "metadata": {},
   "outputs": [],
   "source": [
    "# We can also write our own custom models."
   ]
  }
 ],
 "metadata": {
  "kernelspec": {
   "display_name": "Python 2",
   "language": "python",
   "name": "python2"
  },
  "language_info": {
   "codemirror_mode": {
    "name": "ipython",
    "version": 2
   },
   "file_extension": ".py",
   "mimetype": "text/x-python",
   "name": "python",
   "nbconvert_exporter": "python",
   "pygments_lexer": "ipython2",
   "version": "2.7.12"
  }
 },
 "nbformat": 4,
 "nbformat_minor": 2
}
