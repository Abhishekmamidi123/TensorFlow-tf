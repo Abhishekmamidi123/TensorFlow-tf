{
 "cells": [
  {
   "cell_type": "code",
   "execution_count": 13,
   "metadata": {},
   "outputs": [],
   "source": [
    "# Implementing basic LinearRegression model using high-level TensorFlow library \"tf.estimator\"\n"
   ]
  },
  {
   "cell_type": "code",
   "execution_count": 14,
   "metadata": {},
   "outputs": [],
   "source": [
    "import numpy as np\n",
    "import tensorflow as tf"
   ]
  },
  {
   "cell_type": "code",
   "execution_count": 15,
   "metadata": {},
   "outputs": [
    {
     "name": "stdout",
     "output_type": "stream",
     "text": [
      "[_NumericColumn(key='x', shape=(1,), default_value=None, dtype=tf.float32, normalizer_fn=None)]\n"
     ]
    }
   ],
   "source": [
    "feature_columns = [tf.feature_column.numeric_column(\"x\", shape=[1])]\n",
    "print feature_columns"
   ]
  },
  {
   "cell_type": "code",
   "execution_count": 16,
   "metadata": {
    "collapsed": true
   },
   "outputs": [
    {
     "name": "stdout",
     "output_type": "stream",
     "text": [
      "INFO:tensorflow:Using default config.\n",
      "WARNING:tensorflow:Using temporary folder as model directory: /tmp/tmpDhH_7K\n",
      "INFO:tensorflow:Using config: {'_save_checkpoints_secs': 600, '_session_config': None, '_keep_checkpoint_max': 5, '_tf_random_seed': 1, '_keep_checkpoint_every_n_hours': 10000, '_log_step_count_steps': 100, '_save_checkpoints_steps': None, '_model_dir': '/tmp/tmpDhH_7K', '_save_summary_steps': 100}\n"
     ]
    }
   ],
   "source": [
    "estimator = tf.estimator.LinearRegressor(feature_columns=feature_columns)"
   ]
  },
  {
   "cell_type": "code",
   "execution_count": 17,
   "metadata": {},
   "outputs": [],
   "source": [
    "x_train = np.array([1., 2., 3., 4.])\n",
    "y_train = np.array([0., -1., -2., -3.])\n",
    "x_eval = np.array([2., 5., 8., 1.])\n",
    "y_eval = np.array([-1.01, -4.1, -7, 0.])"
   ]
  },
  {
   "cell_type": "code",
   "execution_count": 18,
   "metadata": {},
   "outputs": [],
   "source": [
    "input_fn = tf.estimator.inputs.numpy_input_fn(\n",
    "    {\"x\": x_train}, y_train, batch_size=4, num_epochs=None, shuffle=True)\n",
    "train_input_fn = tf.estimator.inputs.numpy_input_fn(\n",
    "    {\"x\": x_train}, y_train, batch_size=4, num_epochs=1000, shuffle=False)\n",
    "eval_input_fn = tf.estimator.inputs.numpy_input_fn(\n",
    "    {\"x\": x_eval}, y_eval, batch_size=4, num_epochs=1000, shuffle=False)"
   ]
  },
  {
   "cell_type": "code",
   "execution_count": 19,
   "metadata": {
    "collapsed": true
   },
   "outputs": [
    {
     "name": "stdout",
     "output_type": "stream",
     "text": [
      "INFO:tensorflow:Create CheckpointSaverHook.\n",
      "INFO:tensorflow:Saving checkpoints for 1 into /tmp/tmpDhH_7K/model.ckpt.\n",
      "INFO:tensorflow:loss = 10.0, step = 1\n",
      "INFO:tensorflow:global_step/sec: 1188.74\n",
      "INFO:tensorflow:loss = 0.150442, step = 101 (0.085 sec)\n",
      "INFO:tensorflow:global_step/sec: 1201.23\n",
      "INFO:tensorflow:loss = 0.0295603, step = 201 (0.083 sec)\n",
      "INFO:tensorflow:global_step/sec: 1299.17\n",
      "INFO:tensorflow:loss = 0.00194824, step = 301 (0.077 sec)\n",
      "INFO:tensorflow:global_step/sec: 1105.64\n",
      "INFO:tensorflow:loss = 0.000311238, step = 401 (0.090 sec)\n",
      "INFO:tensorflow:global_step/sec: 1179.34\n",
      "INFO:tensorflow:loss = 0.000285753, step = 501 (0.085 sec)\n",
      "INFO:tensorflow:global_step/sec: 1247.58\n",
      "INFO:tensorflow:loss = 3.73086e-05, step = 601 (0.080 sec)\n",
      "INFO:tensorflow:global_step/sec: 1047.99\n",
      "INFO:tensorflow:loss = 1.36289e-05, step = 701 (0.095 sec)\n",
      "INFO:tensorflow:global_step/sec: 1286.15\n",
      "INFO:tensorflow:loss = 1.70848e-06, step = 801 (0.078 sec)\n",
      "INFO:tensorflow:global_step/sec: 1315.55\n",
      "INFO:tensorflow:loss = 3.77763e-07, step = 901 (0.076 sec)\n",
      "INFO:tensorflow:Saving checkpoints for 1000 into /tmp/tmpDhH_7K/model.ckpt.\n",
      "INFO:tensorflow:Loss for final step: 7.11286e-08.\n"
     ]
    },
    {
     "data": {
      "text/plain": [
       "<tensorflow.python.estimator.canned.linear.LinearRegressor at 0x7fbf458e2710>"
      ]
     },
     "execution_count": 19,
     "metadata": {},
     "output_type": "execute_result"
    }
   ],
   "source": [
    "estimator.train(input_fn=input_fn, steps=1000)"
   ]
  },
  {
   "cell_type": "code",
   "execution_count": 20,
   "metadata": {
    "collapsed": true
   },
   "outputs": [
    {
     "name": "stdout",
     "output_type": "stream",
     "text": [
      "INFO:tensorflow:Starting evaluation at 2017-11-11-19:05:29\n",
      "INFO:tensorflow:Restoring parameters from /tmp/tmpDhH_7K/model.ckpt-1000\n",
      "INFO:tensorflow:Finished evaluation at 2017-11-11-19:05:29\n",
      "INFO:tensorflow:Saving dict for global step 1000: average_loss = 2.10264e-08, global_step = 1000, loss = 8.41054e-08\n",
      "INFO:tensorflow:Starting evaluation at 2017-11-11-19:05:29\n",
      "INFO:tensorflow:Restoring parameters from /tmp/tmpDhH_7K/model.ckpt-1000\n",
      "INFO:tensorflow:Finished evaluation at 2017-11-11-19:05:30\n",
      "INFO:tensorflow:Saving dict for global step 1000: average_loss = 0.00253629, global_step = 1000, loss = 0.0101452\n",
      "{'average_loss': 2.1026358e-08, 'global_step': 1000, 'loss': 8.410543e-08}\n",
      "{'average_loss': 0.002536291, 'global_step': 1000, 'loss': 0.010145164}\n"
     ]
    }
   ],
   "source": [
    "train_metrics = estimator.evaluate(input_fn=train_input_fn)\n",
    "eval_metrics = estimator.evaluate(input_fn=eval_input_fn)\n",
    "\n",
    "print train_metrics\n",
    "print eval_metrics"
   ]
  },
  {
   "cell_type": "code",
   "execution_count": null,
   "metadata": {},
   "outputs": [],
   "source": []
  },
  {
   "cell_type": "code",
   "execution_count": null,
   "metadata": {},
   "outputs": [],
   "source": [
    "# We can also write our own custom models."
   ]
  }
 ],
 "metadata": {
  "kernelspec": {
   "display_name": "Python 2",
   "language": "python",
   "name": "python2"
  },
  "language_info": {
   "codemirror_mode": {
    "name": "ipython",
    "version": 2
   },
   "file_extension": ".py",
   "mimetype": "text/x-python",
   "name": "python",
   "nbconvert_exporter": "python",
   "pygments_lexer": "ipython2",
   "version": "2.7.12"
  }
 },
 "nbformat": 4,
 "nbformat_minor": 2
}
